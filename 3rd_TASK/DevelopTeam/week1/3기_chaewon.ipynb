{
  "nbformat": 4,
  "nbformat_minor": 0,
  "metadata": {
    "colab": {
      "private_outputs": true,
      "provenance": []
    },
    "kernelspec": {
      "name": "python3",
      "display_name": "Python 3"
    },
    "language_info": {
      "name": "python"
    }
  },
  "cells": [
    {
      "cell_type": "markdown",
      "source": [
        "## 🍎 애플 주식 데이터 10년 분석 (2015-2025)\n",
        "- 애플(Apple Inc.)의 10년간(2015-2025) 주가 데이터를 활용한 분석 프로젝트"
      ],
      "metadata": {
        "id": "tObw9SNVdl3W"
      }
    },
    {
      "cell_type": "markdown",
      "source": [
        "### TASK 1: 데이터 출처 설명 / 데이터 불러오기"
      ],
      "metadata": {
        "id": "kzL-QVq6dy9q"
      }
    },
    {
      "cell_type": "code",
      "execution_count": null,
      "metadata": {
        "id": "l7suz59qb2SB"
      },
      "outputs": [],
      "source": [
        "\"\"\"\n",
        "## 데이터 출처 설명\n",
        "\n",
        "본 분석에서는 Yahoo Finance에서 제공하는 애플(AAPL) 주식 데이터를 활용함.\n",
        "데이터는 Python의 yfinance 라이브러리를 기반으로 수집함.\n",
        "\n",
        "1. **데이터 소스**: Yahoo Finance API (yfinance 라이브러리 활용)\n",
        "2. **수집 기간**: 2015년 1월 1일 ~ 2025년 3월 10일\n",
        "3. **수집 주기**: 일별 (거래일 기준)\n",
        "4. **주요 변수**:\n",
        "   - Open: 시가\n",
        "   - High: 고가\n",
        "   - Low: 저가\n",
        "   - Close: 종가 (조정종가)\n",
        "   - Volume: 거래량\n",
        "\n",
        "추가로 비교 분석을 위해 수집할 데이터...\n",
        "- 나스닥 지수(^IXIC)\n",
        "- 주요 경쟁사 데이터(MSFT, GOOGL, AMZN)\n",
        "\n",
        "yfinance 라이브러리는 주식 분할, 배당금 등이 반영된 조정 주가를 제공하므로,\n",
        "장기간의 주가 추세를 분석하는 데 적합!\n",
        "\"\"\"\n",
        "import yfinance as yf\n",
        "import pandas as pd\n",
        "import numpy as np\n",
        "import matplotlib.pyplot as plt\n",
        "import seaborn as sns\n",
        "from datetime import datetime\n",
        "import warnings\n",
        "warnings.filterwarnings('ignore')\n",
        "\n",
        "# 시각화 설정\n",
        "plt.style.use('seaborn-v0_8')\n",
        "sns.set(font_scale=1.2)\n",
        "plt.rcParams['figure.figsize'] = (12, 6)\n",
        "\n",
        "start_date = '2015-01-01'\n",
        "end_date = datetime.now().strftime('%Y-%m-%d')\n",
        "\n",
        "print(f\"데이터 수집 기간: {start_date} ~ {end_date}\")\n",
        "\n",
        "# 애플 데이터 다운로드\n",
        "apple_data = yf.download('AAPL', start=start_date, end=end_date)\n",
        "\n",
        "# 멀티인덱스 컬럼 처리\n",
        "if isinstance(apple_data.columns[0], tuple):\n",
        "    apple_data.columns = [col[0] for col in apple_data.columns]\n",
        "\n",
        "# 기본 데이터 확인\n",
        "print(f\"다운로드 완료: 애플 주식 데이터 {len(apple_data)}행\")"
      ]
    },
    {
      "cell_type": "markdown",
      "source": [
        "### TASK 2: 기초 통계 확인"
      ],
      "metadata": {
        "id": "ULymbeuEeUfX"
      }
    },
    {
      "cell_type": "code",
      "source": [
        "# 일별 수익률 계산\n",
        "apple_data['Daily_Return'] = apple_data['Close'].pct_change() * 100\n",
        "\n",
        "# 시계열 특성 추가\n",
        "apple_data['Year'] = apple_data.index.year\n",
        "apple_data['Month'] = apple_data.index.month\n",
        "apple_data['Quarter'] = apple_data.index.quarter\n",
        "apple_data['Month_Name'] = apple_data.index.strftime('%B')\n",
        "\n",
        "print(\"기본 파생변수 추가 완료\")\n",
        "print(\"추가된 변수:\")\n",
        "print(\"- Daily_Return: 일별 수익률(%)\")\n",
        "print(\"- Year: 연도\")\n",
        "print(\"- Month: 월\")\n",
        "print(\"- Quarter: 분기\")\n",
        "print(\"- Month_Name: 월 이름\")\n",
        "\n",
        "print(\"\\n===== 애플 주식 데이터 기본 정보 =====\")\n",
        "print(f\"분석 기간: {apple_data.index.min().strftime('%Y-%m-%d')} ~ {apple_data.index.max().strftime('%Y-%m-%d')}\")\n",
        "print(f\"총 거래일 수: {len(apple_data)}일\")\n",
        "print(f\"변수 목록: {', '.join(apple_data.columns)}\")\n",
        "\n",
        "missing_values = apple_data.isnull().sum()\n",
        "print(\"\\n===== 결측치 확인 =====\")\n",
        "print(missing_values)\n",
        "\n",
        "print(\"\\n===== 기초 통계량 =====\")\n",
        "stats_df = apple_data[['Open', 'High', 'Low', 'Close', 'Volume', 'Daily_Return']].describe()\n",
        "print(stats_df)"
      ],
      "metadata": {
        "id": "oT8Eh9W-eWUe"
      },
      "execution_count": null,
      "outputs": []
    },
    {
      "cell_type": "code",
      "source": [
        "# 연도별 주가 통계 - 루프 사용\n",
        "yearly_stats = pd.DataFrame()\n",
        "yearly_stats['Year'] = sorted(apple_data['Year'].unique())\n",
        "\n",
        "# 각 통계 계산\n",
        "for year in yearly_stats['Year']:\n",
        "    year_data = apple_data[apple_data['Year'] == year]['Close']\n",
        "    yearly_stats.loc[yearly_stats['Year'] == year, 'mean'] = year_data.mean()\n",
        "    yearly_stats.loc[yearly_stats['Year'] == year, 'min'] = year_data.min()\n",
        "    yearly_stats.loc[yearly_stats['Year'] == year, 'max'] = year_data.max()\n",
        "    yearly_stats.loc[yearly_stats['Year'] == year, 'std'] = year_data.std()\n",
        "\n",
        "# 추가 지표 계산\n",
        "yearly_stats['변동성(%)'] = yearly_stats['std'] / yearly_stats['mean'] * 100\n",
        "yearly_stats['상승률(%)'] = (yearly_stats['max'] - yearly_stats['min']) / yearly_stats['min'] * 100\n",
        "\n",
        "print(\"\\n===== 연도별 주가 통계 =====\")\n",
        "print(yearly_stats)"
      ],
      "metadata": {
        "id": "crTpjUI0fyvC"
      },
      "execution_count": null,
      "outputs": []
    },
    {
      "cell_type": "code",
      "source": [
        "# 월별 평균 수익률 - 직접 계산\n",
        "monthly_returns = pd.DataFrame()\n",
        "monthly_returns['Month'] = sorted(apple_data['Month'].unique())\n",
        "\n",
        "# 각 월의 평균 수익률 계산\n",
        "for month in monthly_returns['Month']:\n",
        "    month_data = apple_data[apple_data['Month'] == month]['Daily_Return']\n",
        "    monthly_returns.loc[monthly_returns['Month'] == month, 'Daily_Return'] = month_data.mean()\n",
        "\n",
        "# 월 이름 추가\n",
        "month_names = {\n",
        "    1: 'January', 2: 'February', 3: 'March', 4: 'April', 5: 'May', 6: 'June',\n",
        "    7: 'July', 8: 'August', 9: 'September', 10: 'October', 11: 'November', 12: 'December'\n",
        "}\n",
        "monthly_returns['Month_Name'] = monthly_returns['Month'].map(month_names)\n",
        "\n",
        "print(\"\\n===== 월별 평균 일간 수익률 =====\")\n",
        "print(monthly_returns[['Month_Name', 'Daily_Return']])"
      ],
      "metadata": {
        "id": "JBxyuEgMgw72"
      },
      "execution_count": null,
      "outputs": []
    },
    {
      "cell_type": "markdown",
      "source": [
        "### TASK 3 - 분석 목적 및 인사이트 설명\n",
        "해당 데이터셋 분석의 핵심 목적은 **애플 주식 변동성 분석 기반 지능형 투자 인사이트 생성**\n",
        "\n",
        "1. 고변동성 구간 정밀 식별 및 특성화\n",
        "   - 시계열 이상치 탐지 알고리즘을 통한 비정상적 변동성 구간 자동 식별\n",
        "   - 변동성 클러스터링을 통한 패턴 유형화 및 통계적 유의성 검증\n",
        "   - 주가 변동성과 거래량, 시장 지표 간 상관관계 분석을 통한 예측 신호 개발\n",
        "\n",
        "2. 뉴스 기반 변동성 인과관계 분석 시스템 구축\n",
        "   - Google News RSS Feed API 연동을 통한 실시간 뉴스 데이터 수집 파이프라인 구축\n",
        "   - 고변동성 구간과 연관된 뉴스 기사의 자동 매핑 및 시맨틱 분석\n",
        "\n",
        "3. LLM 기반 투자 인사이트 생성 엔진 개발\n",
        "   - 변동성 패턴, 뉴스 분석 결과를 통합한 멀티모달 데이터 처리 아키텍처 설계\n",
        "   - LLM을 활용한 맞춤형 투자 인사이트 생성 시스템 개발\n",
        "   - 사용자 투자 성향에 최적화된 동적 인사이트 제공 메커니즘 구현\n",
        "\n",
        "#### 주요 인사이트\n",
        "\n",
        "1. 장기적 성장 패턴\n",
        "- 2015년 평균 주가 약 27달러에서 2025년 초 236달러까지, 약 9배 성장\n",
        "- 성장 가속화 시점: 2019-2020년 사이에 주가가 급격히 상승(약 85% 증가)\n",
        "- 최근 고평가: 2023-2025년 주가는 계속해서 상승하여 $250 근처까지 도달\n",
        "\n",
        "2. 변동성 패턴\n",
        "- 높은 변동성 시기: 2020년은 가장 높은 변동성(23.1%)\n",
        "- 안정화 추세: 2021-2023년은 변동성이 약 10% 내외로 안정화\n",
        "- 극단적 가격 변동: 일별 수익률 데이터를 보면 최대 하락폭은 -12.9%, 최대 상승폭은 12.0%로, 단기간에 큰 변동이 가능함을 보여주는 결과!"
      ],
      "metadata": {
        "id": "s4GDHAkig5mH"
      }
    }
  ]
}